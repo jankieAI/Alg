{
  "nbformat": 4,
  "nbformat_minor": 0,
  "metadata": {
    "colab": {
      "provenance": [],
      "include_colab_link": true
    },
    "kernelspec": {
      "name": "python3",
      "display_name": "Python 3"
    },
    "accelerator": "GPU",
    "widgets": {
      "application/vnd.jupyter.widget-state+json": {
        "859bb29906434081a7be6f58b1ad313f": {
          "model_module": "@jupyter-widgets/controls",
          "model_name": "HBoxModel",
          "state": {
            "_view_name": "HBoxView",
            "_dom_classes": [],
            "_model_name": "HBoxModel",
            "_view_module": "@jupyter-widgets/controls",
            "_model_module_version": "1.5.0",
            "_view_count": null,
            "_view_module_version": "1.5.0",
            "box_style": "",
            "layout": "IPY_MODEL_3c66d5e5ab344255af614529127392f1",
            "_model_module": "@jupyter-widgets/controls",
            "children": [
              "IPY_MODEL_3dd039b26d4b47929ea84a55d8ee89cf",
              "IPY_MODEL_acb5f4a72d134c049c6c283df766db4c"
            ]
          },
          "model_module_version": "1.5.0"
        },
        "3c66d5e5ab344255af614529127392f1": {
          "model_module": "@jupyter-widgets/base",
          "model_name": "LayoutModel",
          "state": {
            "_view_name": "LayoutView",
            "grid_template_rows": null,
            "right": null,
            "justify_content": null,
            "_view_module": "@jupyter-widgets/base",
            "overflow": null,
            "_model_module_version": "1.2.0",
            "_view_count": null,
            "flex_flow": null,
            "width": null,
            "min_width": null,
            "border": null,
            "align_items": null,
            "bottom": null,
            "_model_module": "@jupyter-widgets/base",
            "top": null,
            "grid_column": null,
            "overflow_y": null,
            "overflow_x": null,
            "grid_auto_flow": null,
            "grid_area": null,
            "grid_template_columns": null,
            "flex": null,
            "_model_name": "LayoutModel",
            "justify_items": null,
            "grid_row": null,
            "max_height": null,
            "align_content": null,
            "visibility": null,
            "align_self": null,
            "height": null,
            "min_height": null,
            "padding": null,
            "grid_auto_rows": null,
            "grid_gap": null,
            "max_width": null,
            "order": null,
            "_view_module_version": "1.2.0",
            "grid_template_areas": null,
            "object_position": null,
            "object_fit": null,
            "grid_auto_columns": null,
            "margin": null,
            "display": null,
            "left": null
          },
          "model_module_version": "1.2.0"
        },
        "3dd039b26d4b47929ea84a55d8ee89cf": {
          "model_module": "@jupyter-widgets/controls",
          "model_name": "FloatProgressModel",
          "state": {
            "_view_name": "ProgressView",
            "style": "IPY_MODEL_60b7434fb4f34018afe7dedfc55907ad",
            "_dom_classes": [],
            "description": "",
            "_model_name": "FloatProgressModel",
            "bar_style": "success",
            "max": 1,
            "_view_module": "@jupyter-widgets/controls",
            "_model_module_version": "1.5.0",
            "value": 1,
            "_view_count": null,
            "_view_module_version": "1.5.0",
            "orientation": "horizontal",
            "min": 0,
            "description_tooltip": null,
            "_model_module": "@jupyter-widgets/controls",
            "layout": "IPY_MODEL_48dfa5f908d7428a9ff570f96320025b"
          },
          "model_module_version": "1.5.0"
        },
        "acb5f4a72d134c049c6c283df766db4c": {
          "model_module": "@jupyter-widgets/controls",
          "model_name": "HTMLModel",
          "state": {
            "_view_name": "HTMLView",
            "style": "IPY_MODEL_3728756314814e83a89fa18a3b85e733",
            "_dom_classes": [],
            "description": "",
            "_model_name": "HTMLModel",
            "placeholder": "​",
            "_view_module": "@jupyter-widgets/controls",
            "_model_module_version": "1.5.0",
            "value": " 40474/? [07:01&lt;00:00, 96.01it/s]",
            "_view_count": null,
            "_view_module_version": "1.5.0",
            "description_tooltip": null,
            "_model_module": "@jupyter-widgets/controls",
            "layout": "IPY_MODEL_f04c132e02134df0bcee6927fa8a00c0"
          },
          "model_module_version": "1.5.0"
        },
        "60b7434fb4f34018afe7dedfc55907ad": {
          "model_module": "@jupyter-widgets/controls",
          "model_name": "ProgressStyleModel",
          "state": {
            "_view_name": "StyleView",
            "_model_name": "ProgressStyleModel",
            "description_width": "initial",
            "_view_module": "@jupyter-widgets/base",
            "_model_module_version": "1.5.0",
            "_view_count": null,
            "_view_module_version": "1.2.0",
            "bar_color": null,
            "_model_module": "@jupyter-widgets/controls"
          },
          "model_module_version": "1.5.0"
        },
        "48dfa5f908d7428a9ff570f96320025b": {
          "model_module": "@jupyter-widgets/base",
          "model_name": "LayoutModel",
          "state": {
            "_view_name": "LayoutView",
            "grid_template_rows": null,
            "right": null,
            "justify_content": null,
            "_view_module": "@jupyter-widgets/base",
            "overflow": null,
            "_model_module_version": "1.2.0",
            "_view_count": null,
            "flex_flow": null,
            "width": null,
            "min_width": null,
            "border": null,
            "align_items": null,
            "bottom": null,
            "_model_module": "@jupyter-widgets/base",
            "top": null,
            "grid_column": null,
            "overflow_y": null,
            "overflow_x": null,
            "grid_auto_flow": null,
            "grid_area": null,
            "grid_template_columns": null,
            "flex": null,
            "_model_name": "LayoutModel",
            "justify_items": null,
            "grid_row": null,
            "max_height": null,
            "align_content": null,
            "visibility": null,
            "align_self": null,
            "height": null,
            "min_height": null,
            "padding": null,
            "grid_auto_rows": null,
            "grid_gap": null,
            "max_width": null,
            "order": null,
            "_view_module_version": "1.2.0",
            "grid_template_areas": null,
            "object_position": null,
            "object_fit": null,
            "grid_auto_columns": null,
            "margin": null,
            "display": null,
            "left": null
          },
          "model_module_version": "1.2.0"
        },
        "3728756314814e83a89fa18a3b85e733": {
          "model_module": "@jupyter-widgets/controls",
          "model_name": "DescriptionStyleModel",
          "state": {
            "_view_name": "StyleView",
            "_model_name": "DescriptionStyleModel",
            "description_width": "",
            "_view_module": "@jupyter-widgets/base",
            "_model_module_version": "1.5.0",
            "_view_count": null,
            "_view_module_version": "1.2.0",
            "_model_module": "@jupyter-widgets/controls"
          },
          "model_module_version": "1.5.0"
        },
        "f04c132e02134df0bcee6927fa8a00c0": {
          "model_module": "@jupyter-widgets/base",
          "model_name": "LayoutModel",
          "state": {
            "_view_name": "LayoutView",
            "grid_template_rows": null,
            "right": null,
            "justify_content": null,
            "_view_module": "@jupyter-widgets/base",
            "overflow": null,
            "_model_module_version": "1.2.0",
            "_view_count": null,
            "flex_flow": null,
            "width": null,
            "min_width": null,
            "border": null,
            "align_items": null,
            "bottom": null,
            "_model_module": "@jupyter-widgets/base",
            "top": null,
            "grid_column": null,
            "overflow_y": null,
            "overflow_x": null,
            "grid_auto_flow": null,
            "grid_area": null,
            "grid_template_columns": null,
            "flex": null,
            "_model_name": "LayoutModel",
            "justify_items": null,
            "grid_row": null,
            "max_height": null,
            "align_content": null,
            "visibility": null,
            "align_self": null,
            "height": null,
            "min_height": null,
            "padding": null,
            "grid_auto_rows": null,
            "grid_gap": null,
            "max_width": null,
            "order": null,
            "_view_module_version": "1.2.0",
            "grid_template_areas": null,
            "object_position": null,
            "object_fit": null,
            "grid_auto_columns": null,
            "margin": null,
            "display": null,
            "left": null
          },
          "model_module_version": "1.2.0"
        }
      }
    }
  },
  "cells": [
    {
      "cell_type": "markdown",
      "metadata": {
        "id": "view-in-github",
        "colab_type": "text"
      },
      "source": [
        "<a href=\"https://colab.research.google.com/github/jankieAI/Alg/blob/master/neural_search_demo.ipynb\" target=\"_parent\"><img src=\"https://colab.research.google.com/assets/colab-badge.svg\" alt=\"Open In Colab\"/></a>"
      ]
    },
    {
      "cell_type": "markdown",
      "metadata": {
        "id": "JrSYXFbmCZ5s"
      },
      "source": [
        "# Neural search demo - initial indexing\n",
        "\n",
        "Code in this notebook shows how to prepare data for indexing in a vector search engine.\n",
        "\n",
        "It contains the following steps:\n",
        "\n",
        "* Downloading text data which we want to search\n",
        "* Initialization of pre-trained text vectorization models (with SentenceTransformer)\n",
        "* Converting text data into vectors and saving it."
      ]
    },
    {
      "cell_type": "code",
      "metadata": {
        "colab": {
          "base_uri": "https://localhost:8080/"
        },
        "id": "w2tYEjeeHHT5",
        "outputId": "1b6f6b08-2c3e-40a6-c8d3-304fd6a2d70c"
      },
      "source": [
        "# We will use startup descriptions in this neural search demo\n",
        "# Data source: https://startups-list.com/\n",
        "# It contains name, short descrition, logo and location of startups.\n",
        "!wget https://storage.googleapis.com/generall-shared-data/startups_demo.json"
      ],
      "execution_count": null,
      "outputs": [
        {
          "output_type": "stream",
          "text": [
            "--2021-02-09 23:41:50--  https://storage.googleapis.com/generall-shared-data/startups_demo.json\n",
            "Resolving storage.googleapis.com (storage.googleapis.com)... 172.217.9.208, 172.253.122.128, 172.253.63.128, ...\n",
            "Connecting to storage.googleapis.com (storage.googleapis.com)|172.217.9.208|:443... connected.\n",
            "HTTP request sent, awaiting response... 200 OK\n",
            "Length: 22205751 (21M) [application/json]\n",
            "Saving to: ‘startups_demo.json’\n",
            "\n",
            "startups_demo.json  100%[===================>]  21.18M   119MB/s    in 0.2s    \n",
            "\n",
            "2021-02-09 23:41:50 (119 MB/s) - ‘startups_demo.json’ saved [22205751/22205751]\n",
            "\n"
          ],
          "name": "stdout"
        }
      ]
    },
    {
      "cell_type": "code",
      "metadata": {
        "id": "FhfngYGiCNJP"
      },
      "source": [
        "# We use SentenceTransformer pre-trained models to convert our text into vectors.\n",
        "!pip install sentence-transformers"
      ],
      "execution_count": null,
      "outputs": []
    },
    {
      "cell_type": "code",
      "metadata": {
        "id": "Hk4uS1LBDxEz"
      },
      "source": [
        "from sentence_transformers import SentenceTransformer\n",
        "import numpy as np\n",
        "import json\n",
        "import pandas as pd\n",
        "from tqdm.notebook import tqdm"
      ],
      "execution_count": null,
      "outputs": []
    },
    {
      "cell_type": "code",
      "metadata": {
        "colab": {
          "base_uri": "https://localhost:8080/"
        },
        "id": "SVmYlQhdDv0S",
        "outputId": "75319e49-9e79-423f-a357-00683b5ee16a"
      },
      "source": [
        "# This code will download and create a pre-trained sentence encoder\n",
        "\n",
        "# distilbert - is a distilated (lightweight) version of BERT model\n",
        "# stsb - denotes that the model was trained for Semantic Textual Similarity\n",
        "# Full list of available models could be found here https://www.sbert.net/docs/pretrained_models.html\n",
        "model = SentenceTransformer('distilbert-base-nli-stsb-mean-tokens', device=\"cuda\")"
      ],
      "execution_count": null,
      "outputs": [
        {
          "output_type": "stream",
          "text": [
            "100%|██████████| 245M/245M [00:09<00:00, 24.5MB/s]\n"
          ],
          "name": "stderr"
        }
      ]
    },
    {
      "cell_type": "code",
      "metadata": {
        "id": "O-M1Q1CHEH9P"
      },
      "source": [
        "df = pd.read_json('./startups_demo.json', lines=True)"
      ],
      "execution_count": null,
      "outputs": []
    },
    {
      "cell_type": "code",
      "metadata": {
        "colab": {
          "base_uri": "https://localhost:8080/",
          "height": 66,
          "referenced_widgets": [
            "859bb29906434081a7be6f58b1ad313f",
            "3c66d5e5ab344255af614529127392f1",
            "3dd039b26d4b47929ea84a55d8ee89cf",
            "acb5f4a72d134c049c6c283df766db4c",
            "60b7434fb4f34018afe7dedfc55907ad",
            "48dfa5f908d7428a9ff570f96320025b",
            "3728756314814e83a89fa18a3b85e733",
            "f04c132e02134df0bcee6927fa8a00c0"
          ]
        },
        "id": "tjtcRn8gIR27",
        "outputId": "2566e3d3-5207-42e8-a551-8631d1ec63d0"
      },
      "source": [
        "# Here we ancode all startup descriptions\n",
        "# We do encoding in batches, as this reduces overhead costs and significantly speeds up the process\n",
        "vectors = []\n",
        "batch_size = 64\n",
        "batch = []\n",
        "for row in tqdm(df.itertuples()):\n",
        "  description = row.alt + \". \" + row.description\n",
        "  batch.append(description)\n",
        "  if len(batch) >= batch_size:\n",
        "    vectors.append(model.encode(batch))  # Text -> vector encoding happens here\n",
        "    batch = []\n",
        "\n",
        "if len(batch) > 0:\n",
        "  vectors.append(model.encode(batch))\n",
        "  batch = []\n",
        "\n",
        "vectors = np.concatenate(vectors)"
      ],
      "execution_count": null,
      "outputs": [
        {
          "output_type": "display_data",
          "data": {
            "application/vnd.jupyter.widget-view+json": {
              "model_id": "859bb29906434081a7be6f58b1ad313f",
              "version_minor": 0,
              "version_major": 2
            },
            "text/plain": [
              "HBox(children=(FloatProgress(value=1.0, bar_style='info', max=1.0), HTML(value='')))"
            ]
          },
          "metadata": {
            "tags": []
          }
        },
        {
          "output_type": "stream",
          "text": [
            "\n"
          ],
          "name": "stdout"
        }
      ]
    },
    {
      "cell_type": "code",
      "metadata": {
        "colab": {
          "base_uri": "https://localhost:8080/"
        },
        "id": "vBT95rCSMXeZ",
        "outputId": "cb807082-4cba-4c09-b444-9f2c2737ec92"
      },
      "source": [
        "# Now we have all our descriptions converted into vectors.\n",
        "# We have 40474 vectors of 768 dimentions. The output layer of the model has this dimension\n",
        "vectors.shape"
      ],
      "execution_count": null,
      "outputs": [
        {
          "output_type": "execute_result",
          "data": {
            "text/plain": [
              "(40474, 768)"
            ]
          },
          "metadata": {
            "tags": []
          },
          "execution_count": 19
        }
      ]
    },
    {
      "cell_type": "code",
      "metadata": {
        "id": "XtfleUz_IiuO"
      },
      "source": [
        "# You can download this saved vectors and continue with rest part of the tutorial.\n",
        "np.save('vectors.npy', vectors, allow_pickle=False)"
      ],
      "execution_count": null,
      "outputs": []
    },
    {
      "cell_type": "markdown",
      "metadata": {
        "id": "DX9jPAOiPMHp"
      },
      "source": [
        "## Optional part - make a test query\n",
        "\n",
        "Let's just make sure, that our vectors are correctly converted and make sense.\n",
        "\n",
        "For this we manually search for a closest vectors of a random sample."
      ]
    },
    {
      "cell_type": "code",
      "metadata": {
        "id": "wrQYXNUpNczo"
      },
      "source": [
        "from sklearn.metrics.pairwise import cosine_similarity"
      ],
      "execution_count": null,
      "outputs": []
    },
    {
      "cell_type": "code",
      "metadata": {
        "colab": {
          "base_uri": "https://localhost:8080/"
        },
        "id": "URJ8t1xHNlR1",
        "outputId": "b625601a-de03-4187-b513-ad8704d94430"
      },
      "source": [
        "# Take a random description as a query\n",
        "sample_query = df.iloc[12345].description\n",
        "print(sample_query)"
      ],
      "execution_count": null,
      "outputs": [
        {
          "output_type": "stream",
          "text": [
            "Dental transparency provider\n",
            "Deenty is a dentistry marketplace. Find your next dentist in an easy, quick and transparent way. Find reviews, sales prices and education about your next dental treatment.\n"
          ],
          "name": "stdout"
        }
      ]
    },
    {
      "cell_type": "code",
      "metadata": {
        "id": "Z8Lr8MNyNwhW"
      },
      "source": [
        "query_vector = model.encode(sample_query)  # Convert query description into a vector."
      ],
      "execution_count": null,
      "outputs": []
    },
    {
      "cell_type": "code",
      "metadata": {
        "id": "qEB0drvZNfK8"
      },
      "source": [
        "scores = cosine_similarity([query_vector], vectors)[0]  # Look for the most similar vectors, manually score all vectors\n",
        "top_scores_ids = np.argsort(scores)[-5:][::-1]  # Select top-5 with vectors the largest scores"
      ],
      "execution_count": null,
      "outputs": []
    },
    {
      "cell_type": "code",
      "metadata": {
        "colab": {
          "base_uri": "https://localhost:8080/"
        },
        "id": "GjK3ULqONo3t",
        "outputId": "000f1ab4-078e-4df6-e53f-47dee4e4a5c2"
      },
      "source": [
        "# Check if result similar to the query\n",
        "for top_id in top_scores_ids:\n",
        "  print(df.iloc[top_id].description)\n",
        "  print(\"-----\")"
      ],
      "execution_count": null,
      "outputs": [
        {
          "output_type": "stream",
          "text": [
            "Dental transparency provider\n",
            "Deenty is a dentistry marketplace. Find your next dentist in an easy, quick and transparent way. Find reviews, sales prices and education about your next dental treatment.\n",
            "-----\n",
            "Dental management made easy\n",
            "Dentalink is a web based monthly fee software, for the management of dental clinics and practices. With it, you can manage all the resources within, from appointment, notifications, email marketing to performance reports, like cash flow, quotes uptake rate, and ...\n",
            "-----\n",
            "A marketplace for healthcare supplies.\n",
            "Supply Clinic is an online marketplace for dental and healthcare supplies. We aggregate the low-touch end of the supply market on a single platform, bringing transparency to an otherwise opaque and inefficient market. Clinicians can browse our site, compare product ...\n",
            "-----\n",
            "Mobile Apps for Dental Care\n",
            "MoodUp - all dental stuff in one app\n",
            "We create mobile apps for developing good healthy habits in children. We connect the app with both their dentists (to get known of any special offers & free slots) as well as with the Amazon Store (to easily buy oral hygiene ...\n",
            "-----\n",
            "UK's leading book-a-dentist platform\n",
            "Toothpick is an online, real-time booking platform for dental appointments. Patients go to Toothpick.com and browse, compare and review dental service providers, and book straight into the dentist’s calendar over a real-time connection. Toothpick has already helped ...\n",
            "-----\n"
          ],
          "name": "stdout"
        }
      ]
    }
  ]
}